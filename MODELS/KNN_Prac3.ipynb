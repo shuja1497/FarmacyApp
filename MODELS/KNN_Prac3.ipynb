{
 "cells": [
  {
   "cell_type": "code",
   "execution_count": 1,
   "metadata": {},
   "outputs": [],
   "source": [
    "# Importing the libraries\n",
    "import numpy as np\n",
    "import matplotlib.pyplot as plt\n",
    "import pandas as pd"
   ]
  },
  {
   "cell_type": "code",
   "execution_count": 2,
   "metadata": {},
   "outputs": [],
   "source": [
    "#IMPORTING THE DATASET\n",
    "dataset = pd.read_csv('cropmonth_rain.csv')"
   ]
  },
  {
   "cell_type": "code",
   "execution_count": 3,
   "metadata": {
    "collapsed": true
   },
   "outputs": [
    {
     "data": {
      "text/html": [
       "<div>\n",
       "<style scoped>\n",
       "    .dataframe tbody tr th:only-of-type {\n",
       "        vertical-align: middle;\n",
       "    }\n",
       "\n",
       "    .dataframe tbody tr th {\n",
       "        vertical-align: top;\n",
       "    }\n",
       "\n",
       "    .dataframe thead th {\n",
       "        text-align: right;\n",
       "    }\n",
       "</style>\n",
       "<table border=\"1\" class=\"dataframe\">\n",
       "  <thead>\n",
       "    <tr style=\"text-align: right;\">\n",
       "      <th></th>\n",
       "      <th>CROP NAME</th>\n",
       "      <th>CROP TYPE</th>\n",
       "      <th>MONTH_AVG</th>\n",
       "      <th>MIN TEMP(°C )</th>\n",
       "      <th>MAX TEMP(°C)</th>\n",
       "      <th>RAINFALL(mm)</th>\n",
       "    </tr>\n",
       "  </thead>\n",
       "  <tbody>\n",
       "    <tr>\n",
       "      <th>0</th>\n",
       "      <td>BARLEY (JOW)</td>\n",
       "      <td>RABI</td>\n",
       "      <td>11.00</td>\n",
       "      <td>12</td>\n",
       "      <td>32</td>\n",
       "      <td>950.0</td>\n",
       "    </tr>\n",
       "    <tr>\n",
       "      <th>1</th>\n",
       "      <td>MAIZE (KHARIF)</td>\n",
       "      <td>Kharif</td>\n",
       "      <td>6.00</td>\n",
       "      <td>25</td>\n",
       "      <td>30</td>\n",
       "      <td>750.0</td>\n",
       "    </tr>\n",
       "    <tr>\n",
       "      <th>2</th>\n",
       "      <td>MAIZE (RABI)</td>\n",
       "      <td>Rabi</td>\n",
       "      <td>10.50</td>\n",
       "      <td>21</td>\n",
       "      <td>27</td>\n",
       "      <td>750.0</td>\n",
       "    </tr>\n",
       "    <tr>\n",
       "      <th>3</th>\n",
       "      <td>OATS</td>\n",
       "      <td>RABI</td>\n",
       "      <td>10.00</td>\n",
       "      <td>20</td>\n",
       "      <td>30</td>\n",
       "      <td>90.0</td>\n",
       "    </tr>\n",
       "    <tr>\n",
       "      <th>4</th>\n",
       "      <td>RICE</td>\n",
       "      <td>Rabi</td>\n",
       "      <td>11.00</td>\n",
       "      <td>16</td>\n",
       "      <td>30</td>\n",
       "      <td>1500.0</td>\n",
       "    </tr>\n",
       "    <tr>\n",
       "      <th>5</th>\n",
       "      <td>WHEAT (KANAK/GEHU)</td>\n",
       "      <td>Rabi</td>\n",
       "      <td>11.00</td>\n",
       "      <td>21</td>\n",
       "      <td>26</td>\n",
       "      <td>750.0</td>\n",
       "    </tr>\n",
       "    <tr>\n",
       "      <th>6</th>\n",
       "      <td>COTTON</td>\n",
       "      <td>Kharif</td>\n",
       "      <td>4.50</td>\n",
       "      <td>15</td>\n",
       "      <td>35</td>\n",
       "      <td>775.0</td>\n",
       "    </tr>\n",
       "    <tr>\n",
       "      <th>7</th>\n",
       "      <td>BAJRA NAPIER HYBRID</td>\n",
       "      <td>Kharif</td>\n",
       "      <td>5.50</td>\n",
       "      <td>30</td>\n",
       "      <td>30</td>\n",
       "      <td>450.0</td>\n",
       "    </tr>\n",
       "    <tr>\n",
       "      <th>8</th>\n",
       "      <td>BERSEEM</td>\n",
       "      <td>RABI</td>\n",
       "      <td>10.50</td>\n",
       "      <td>15</td>\n",
       "      <td>27</td>\n",
       "      <td>650.0</td>\n",
       "    </tr>\n",
       "    <tr>\n",
       "      <th>9</th>\n",
       "      <td>FINGER MILLET</td>\n",
       "      <td>KHARIF</td>\n",
       "      <td>6.00</td>\n",
       "      <td>20</td>\n",
       "      <td>34</td>\n",
       "      <td>1000.0</td>\n",
       "    </tr>\n",
       "    <tr>\n",
       "      <th>10</th>\n",
       "      <td>GUAR</td>\n",
       "      <td>Kharif</td>\n",
       "      <td>8.50</td>\n",
       "      <td>28</td>\n",
       "      <td>32</td>\n",
       "      <td>105.0</td>\n",
       "    </tr>\n",
       "    <tr>\n",
       "      <th>11</th>\n",
       "      <td>GUINEA GRASS</td>\n",
       "      <td>Rabi</td>\n",
       "      <td>2.50</td>\n",
       "      <td>19</td>\n",
       "      <td>23</td>\n",
       "      <td>1050.0</td>\n",
       "    </tr>\n",
       "    <tr>\n",
       "      <th>12</th>\n",
       "      <td>LUCERNE</td>\n",
       "      <td>Rabi</td>\n",
       "      <td>10.50</td>\n",
       "      <td>15</td>\n",
       "      <td>32</td>\n",
       "      <td>325.0</td>\n",
       "    </tr>\n",
       "    <tr>\n",
       "      <th>13</th>\n",
       "      <td>SENJI HYBRID</td>\n",
       "      <td>Rabi</td>\n",
       "      <td>11.50</td>\n",
       "      <td>25</td>\n",
       "      <td>32</td>\n",
       "      <td>450.0</td>\n",
       "    </tr>\n",
       "    <tr>\n",
       "      <th>14</th>\n",
       "      <td>SHAFTAL</td>\n",
       "      <td>RABI</td>\n",
       "      <td>10.00</td>\n",
       "      <td>12</td>\n",
       "      <td>20</td>\n",
       "      <td>500.0</td>\n",
       "    </tr>\n",
       "    <tr>\n",
       "      <th>15</th>\n",
       "      <td>TEOSINTE</td>\n",
       "      <td>KHARIF</td>\n",
       "      <td>4.50</td>\n",
       "      <td>21</td>\n",
       "      <td>32</td>\n",
       "      <td>625.0</td>\n",
       "    </tr>\n",
       "    <tr>\n",
       "      <th>16</th>\n",
       "      <td>COWPEA</td>\n",
       "      <td>Kharif</td>\n",
       "      <td>5.25</td>\n",
       "      <td>22</td>\n",
       "      <td>35</td>\n",
       "      <td>925.0</td>\n",
       "    </tr>\n",
       "    <tr>\n",
       "      <th>17</th>\n",
       "      <td>DHAINCHA</td>\n",
       "      <td>KHARIF-RABI</td>\n",
       "      <td>6.00</td>\n",
       "      <td>22</td>\n",
       "      <td>35</td>\n",
       "      <td>775.0</td>\n",
       "    </tr>\n",
       "    <tr>\n",
       "      <th>18</th>\n",
       "      <td>MESTA</td>\n",
       "      <td>Kharif</td>\n",
       "      <td>5.50</td>\n",
       "      <td>25</td>\n",
       "      <td>35</td>\n",
       "      <td>750.0</td>\n",
       "    </tr>\n",
       "    <tr>\n",
       "      <th>19</th>\n",
       "      <td>SUNHEMP</td>\n",
       "      <td>Rabi</td>\n",
       "      <td>3.00</td>\n",
       "      <td>20</td>\n",
       "      <td>35</td>\n",
       "      <td>700.0</td>\n",
       "    </tr>\n",
       "    <tr>\n",
       "      <th>20</th>\n",
       "      <td>GROUNDNUT</td>\n",
       "      <td>KHARIF</td>\n",
       "      <td>5.00</td>\n",
       "      <td>20</td>\n",
       "      <td>30</td>\n",
       "      <td>625.0</td>\n",
       "    </tr>\n",
       "    <tr>\n",
       "      <th>21</th>\n",
       "      <td>LINSEED/ FLAX</td>\n",
       "      <td>Rabi</td>\n",
       "      <td>10.50</td>\n",
       "      <td>21</td>\n",
       "      <td>26</td>\n",
       "      <td>600.0</td>\n",
       "    </tr>\n",
       "    <tr>\n",
       "      <th>22</th>\n",
       "      <td>MUSTARD</td>\n",
       "      <td>Rabi</td>\n",
       "      <td>10.50</td>\n",
       "      <td>22</td>\n",
       "      <td>25</td>\n",
       "      <td>325.0</td>\n",
       "    </tr>\n",
       "    <tr>\n",
       "      <th>23</th>\n",
       "      <td>SAFFLOWER</td>\n",
       "      <td>Rabi</td>\n",
       "      <td>10.50</td>\n",
       "      <td>15</td>\n",
       "      <td>20</td>\n",
       "      <td>750.0</td>\n",
       "    </tr>\n",
       "    <tr>\n",
       "      <th>24</th>\n",
       "      <td>SOYBEAN</td>\n",
       "      <td>Kharif</td>\n",
       "      <td>6.50</td>\n",
       "      <td>18</td>\n",
       "      <td>38</td>\n",
       "      <td>450.0</td>\n",
       "    </tr>\n",
       "    <tr>\n",
       "      <th>25</th>\n",
       "      <td>SUNFLOWER</td>\n",
       "      <td>KHARIF</td>\n",
       "      <td>3.50</td>\n",
       "      <td>20</td>\n",
       "      <td>25</td>\n",
       "      <td>600.0</td>\n",
       "    </tr>\n",
       "    <tr>\n",
       "      <th>26</th>\n",
       "      <td>BENGAL GRAM(CHICKPEA)</td>\n",
       "      <td>KHARIF</td>\n",
       "      <td>8.50</td>\n",
       "      <td>24</td>\n",
       "      <td>30</td>\n",
       "      <td>750.0</td>\n",
       "    </tr>\n",
       "    <tr>\n",
       "      <th>27</th>\n",
       "      <td>GREEN GRAM(MOONG)</td>\n",
       "      <td>Kharif</td>\n",
       "      <td>3.50</td>\n",
       "      <td>25</td>\n",
       "      <td>35</td>\n",
       "      <td>750.0</td>\n",
       "    </tr>\n",
       "    <tr>\n",
       "      <th>28</th>\n",
       "      <td>KIDNEY BEAN (RAJMA)</td>\n",
       "      <td>RABI</td>\n",
       "      <td>10.50</td>\n",
       "      <td>15</td>\n",
       "      <td>25</td>\n",
       "      <td>105.0</td>\n",
       "    </tr>\n",
       "    <tr>\n",
       "      <th>29</th>\n",
       "      <td>MASH (URD)</td>\n",
       "      <td>Kharif</td>\n",
       "      <td>3.50</td>\n",
       "      <td>15</td>\n",
       "      <td>30</td>\n",
       "      <td>625.0</td>\n",
       "    </tr>\n",
       "    <tr>\n",
       "      <th>...</th>\n",
       "      <td>...</td>\n",
       "      <td>...</td>\n",
       "      <td>...</td>\n",
       "      <td>...</td>\n",
       "      <td>...</td>\n",
       "      <td>...</td>\n",
       "    </tr>\n",
       "    <tr>\n",
       "      <th>69</th>\n",
       "      <td>STEVIA</td>\n",
       "      <td>Rabi</td>\n",
       "      <td>2.50</td>\n",
       "      <td>25</td>\n",
       "      <td>30</td>\n",
       "      <td>1700.0</td>\n",
       "    </tr>\n",
       "    <tr>\n",
       "      <th>70</th>\n",
       "      <td>SWEET FLAG</td>\n",
       "      <td>RABI</td>\n",
       "      <td>11.00</td>\n",
       "      <td>10</td>\n",
       "      <td>38</td>\n",
       "      <td>1600.0</td>\n",
       "    </tr>\n",
       "    <tr>\n",
       "      <th>71</th>\n",
       "      <td>TULSI</td>\n",
       "      <td>KHARIF</td>\n",
       "      <td>4.50</td>\n",
       "      <td>14</td>\n",
       "      <td>30</td>\n",
       "      <td>1000.0</td>\n",
       "    </tr>\n",
       "    <tr>\n",
       "      <th>72</th>\n",
       "      <td>CORIANDER</td>\n",
       "      <td>Rabi</td>\n",
       "      <td>10.50</td>\n",
       "      <td>15</td>\n",
       "      <td>28</td>\n",
       "      <td>875.0</td>\n",
       "    </tr>\n",
       "    <tr>\n",
       "      <th>73</th>\n",
       "      <td>FENNEL</td>\n",
       "      <td>Rabi</td>\n",
       "      <td>10.50</td>\n",
       "      <td>15</td>\n",
       "      <td>25</td>\n",
       "      <td>62.5</td>\n",
       "    </tr>\n",
       "    <tr>\n",
       "      <th>74</th>\n",
       "      <td>FENUGREEK</td>\n",
       "      <td>Rabi-Kharif</td>\n",
       "      <td>3.50</td>\n",
       "      <td>15</td>\n",
       "      <td>28</td>\n",
       "      <td>6250.0</td>\n",
       "    </tr>\n",
       "    <tr>\n",
       "      <th>75</th>\n",
       "      <td>GINGER (ADRAKH)</td>\n",
       "      <td>Kharif</td>\n",
       "      <td>5.75</td>\n",
       "      <td>12</td>\n",
       "      <td>35</td>\n",
       "      <td>1500.0</td>\n",
       "    </tr>\n",
       "    <tr>\n",
       "      <th>76</th>\n",
       "      <td>TURMERIC (HALDI)</td>\n",
       "      <td>Kharif</td>\n",
       "      <td>5.50</td>\n",
       "      <td>24</td>\n",
       "      <td>28</td>\n",
       "      <td>1500.0</td>\n",
       "    </tr>\n",
       "    <tr>\n",
       "      <th>77</th>\n",
       "      <td>ARUM (ARVI)</td>\n",
       "      <td>KHARIF</td>\n",
       "      <td>5.00</td>\n",
       "      <td>18</td>\n",
       "      <td>35</td>\n",
       "      <td>135.0</td>\n",
       "    </tr>\n",
       "    <tr>\n",
       "      <th>78</th>\n",
       "      <td>ASH GOURD</td>\n",
       "      <td>Rabi</td>\n",
       "      <td>2.50</td>\n",
       "      <td>15</td>\n",
       "      <td>35</td>\n",
       "      <td>1250.0</td>\n",
       "    </tr>\n",
       "    <tr>\n",
       "      <th>79</th>\n",
       "      <td>BRINJAL</td>\n",
       "      <td>Rabi</td>\n",
       "      <td>10.50</td>\n",
       "      <td>15</td>\n",
       "      <td>32</td>\n",
       "      <td>800.0</td>\n",
       "    </tr>\n",
       "    <tr>\n",
       "      <th>80</th>\n",
       "      <td>CAPSICUM</td>\n",
       "      <td>RABI</td>\n",
       "      <td>10.00</td>\n",
       "      <td>21</td>\n",
       "      <td>25</td>\n",
       "      <td>1062.5</td>\n",
       "    </tr>\n",
       "    <tr>\n",
       "      <th>81</th>\n",
       "      <td>CARROT</td>\n",
       "      <td>Rabi</td>\n",
       "      <td>9.50</td>\n",
       "      <td>7</td>\n",
       "      <td>23</td>\n",
       "      <td>875.0</td>\n",
       "    </tr>\n",
       "    <tr>\n",
       "      <th>82</th>\n",
       "      <td>CAULIFLOWER</td>\n",
       "      <td>RABI</td>\n",
       "      <td>11.00</td>\n",
       "      <td>12</td>\n",
       "      <td>30</td>\n",
       "      <td>122.5</td>\n",
       "    </tr>\n",
       "    <tr>\n",
       "      <th>83</th>\n",
       "      <td>CELERY</td>\n",
       "      <td>Rabi</td>\n",
       "      <td>9.50</td>\n",
       "      <td>12</td>\n",
       "      <td>30</td>\n",
       "      <td>1000.0</td>\n",
       "    </tr>\n",
       "    <tr>\n",
       "      <th>84</th>\n",
       "      <td>CHILLY</td>\n",
       "      <td>Rabi</td>\n",
       "      <td>10.50</td>\n",
       "      <td>18</td>\n",
       "      <td>40</td>\n",
       "      <td>1062.5</td>\n",
       "    </tr>\n",
       "    <tr>\n",
       "      <th>85</th>\n",
       "      <td>CUCUMBER</td>\n",
       "      <td>KHARIF</td>\n",
       "      <td>6.50</td>\n",
       "      <td>25</td>\n",
       "      <td>35</td>\n",
       "      <td>135.0</td>\n",
       "    </tr>\n",
       "    <tr>\n",
       "      <th>86</th>\n",
       "      <td>GARLIC</td>\n",
       "      <td>Rabi</td>\n",
       "      <td>9.50</td>\n",
       "      <td>10</td>\n",
       "      <td>30</td>\n",
       "      <td>650.0</td>\n",
       "    </tr>\n",
       "    <tr>\n",
       "      <th>87</th>\n",
       "      <td>KHARIF ONION (PYAZ)</td>\n",
       "      <td>Kharif</td>\n",
       "      <td>5.50</td>\n",
       "      <td>21</td>\n",
       "      <td>26</td>\n",
       "      <td>700.0</td>\n",
       "    </tr>\n",
       "    <tr>\n",
       "      <th>88</th>\n",
       "      <td>LETTUCE</td>\n",
       "      <td>Kharif</td>\n",
       "      <td>10.25</td>\n",
       "      <td>20</td>\n",
       "      <td>30</td>\n",
       "      <td>1250.0</td>\n",
       "    </tr>\n",
       "    <tr>\n",
       "      <th>89</th>\n",
       "      <td>OKRA</td>\n",
       "      <td>Kharif</td>\n",
       "      <td>6.50</td>\n",
       "      <td>20</td>\n",
       "      <td>30</td>\n",
       "      <td>1000.0</td>\n",
       "    </tr>\n",
       "    <tr>\n",
       "      <th>90</th>\n",
       "      <td>PEAS</td>\n",
       "      <td>Rabi</td>\n",
       "      <td>10.75</td>\n",
       "      <td>15</td>\n",
       "      <td>30</td>\n",
       "      <td>450.0</td>\n",
       "    </tr>\n",
       "    <tr>\n",
       "      <th>91</th>\n",
       "      <td>POTATO</td>\n",
       "      <td>Rabi</td>\n",
       "      <td>9.50</td>\n",
       "      <td>14</td>\n",
       "      <td>25</td>\n",
       "      <td>400.0</td>\n",
       "    </tr>\n",
       "    <tr>\n",
       "      <th>92</th>\n",
       "      <td>RABI ONION (PYAZ)</td>\n",
       "      <td>Rabi</td>\n",
       "      <td>10.50</td>\n",
       "      <td>15</td>\n",
       "      <td>30</td>\n",
       "      <td>700.0</td>\n",
       "    </tr>\n",
       "    <tr>\n",
       "      <th>93</th>\n",
       "      <td>RADISH</td>\n",
       "      <td>RABI</td>\n",
       "      <td>9.75</td>\n",
       "      <td>18</td>\n",
       "      <td>25</td>\n",
       "      <td>1625.0</td>\n",
       "    </tr>\n",
       "    <tr>\n",
       "      <th>94</th>\n",
       "      <td>SPINACH</td>\n",
       "      <td>RABI</td>\n",
       "      <td>9.50</td>\n",
       "      <td>15</td>\n",
       "      <td>30</td>\n",
       "      <td>1000.0</td>\n",
       "    </tr>\n",
       "    <tr>\n",
       "      <th>95</th>\n",
       "      <td>SQUASH MELON</td>\n",
       "      <td>Rabi</td>\n",
       "      <td>2.00</td>\n",
       "      <td>10</td>\n",
       "      <td>28</td>\n",
       "      <td>250.0</td>\n",
       "    </tr>\n",
       "    <tr>\n",
       "      <th>96</th>\n",
       "      <td>SWEET POTATO</td>\n",
       "      <td>RABI</td>\n",
       "      <td>12.00</td>\n",
       "      <td>26</td>\n",
       "      <td>30</td>\n",
       "      <td>975.0</td>\n",
       "    </tr>\n",
       "    <tr>\n",
       "      <th>97</th>\n",
       "      <td>TOMATO</td>\n",
       "      <td>Rabi</td>\n",
       "      <td>11.50</td>\n",
       "      <td>10</td>\n",
       "      <td>25</td>\n",
       "      <td>500.0</td>\n",
       "    </tr>\n",
       "    <tr>\n",
       "      <th>98</th>\n",
       "      <td>TURNIP</td>\n",
       "      <td>Rabi</td>\n",
       "      <td>8.50</td>\n",
       "      <td>12</td>\n",
       "      <td>30</td>\n",
       "      <td>3000.0</td>\n",
       "    </tr>\n",
       "  </tbody>\n",
       "</table>\n",
       "<p>99 rows × 6 columns</p>\n",
       "</div>"
      ],
      "text/plain": [
       "                    CROP NAME    CROP TYPE  MONTH_AVG  MIN TEMP(°C )  \\\n",
       "0              BARLEY (JOW)           RABI      11.00             12   \n",
       "1           MAIZE (KHARIF)          Kharif       6.00             25   \n",
       "2             MAIZE (RABI)            Rabi      10.50             21   \n",
       "3                      OATS           RABI      10.00             20   \n",
       "4                     RICE           Rabi       11.00             16   \n",
       "5       WHEAT (KANAK/GEHU)            Rabi      11.00             21   \n",
       "6                  COTTON           Kharif       4.50             15   \n",
       "7      BAJRA NAPIER HYBRID          Kharif       5.50             30   \n",
       "8                 BERSEEM            RABI       10.50             15   \n",
       "9            FINGER MILLET         KHARIF        6.00             20   \n",
       "10                    GUAR          Kharif       8.50             28   \n",
       "11            GUINEA GRASS            Rabi       2.50             19   \n",
       "12                LUCERNE             Rabi      10.50             15   \n",
       "13            SENJI HYBRID            Rabi      11.50             25   \n",
       "14                 SHAFTAL            RABI      10.00             12   \n",
       "15                TEOSINTE          KHARIF       4.50             21   \n",
       "16                 COWPEA           Kharif       5.25             22   \n",
       "17               DHAINCHA      KHARIF-RABI       6.00             22   \n",
       "18                   MESTA          Kharif       5.50             25   \n",
       "19                 SUNHEMP            Rabi       3.00             20   \n",
       "20               GROUNDNUT         KHARIF        5.00             20   \n",
       "21            LINSEED/ FLAX          Rabi       10.50             21   \n",
       "22                 MUSTARD            Rabi      10.50             22   \n",
       "23               SAFFLOWER           Rabi       10.50             15   \n",
       "24                 SOYBEAN          Kharif       6.50             18   \n",
       "25               SUNFLOWER         KHARIF        3.50             20   \n",
       "26   BENGAL GRAM(CHICKPEA)         KHARIF        8.50             24   \n",
       "27       GREEN GRAM(MOONG)          Kharif       3.50             25   \n",
       "28     KIDNEY BEAN (RAJMA)            RABI      10.50             15   \n",
       "29               MASH (URD)         Kharif       3.50             15   \n",
       "..                        ...          ...        ...            ...   \n",
       "69                  STEVIA            Rabi       2.50             25   \n",
       "70              SWEET FLAG           RABI       11.00             10   \n",
       "71                  TULSI           KHARIF       4.50             14   \n",
       "72              CORIANDER            Rabi       10.50             15   \n",
       "73                  FENNEL            Rabi      10.50             15   \n",
       "74               FENUGREEK     Rabi-Kharif       3.50             15   \n",
       "75          GINGER (ADRAKH)         Kharif       5.75             12   \n",
       "76        TURMERIC (HALDI)          Kharif       5.50             24   \n",
       "77             ARUM (ARVI)          KHARIF       5.00             18   \n",
       "78               ASH GOURD            Rabi       2.50             15   \n",
       "79                 BRINJAL           Rabi       10.50             15   \n",
       "80                CAPSICUM            RABI      10.00             21   \n",
       "81                  CARROT            Rabi       9.50              7   \n",
       "82             CAULIFLOWER           RABI       11.00             12   \n",
       "83                  CELERY            Rabi       9.50             12   \n",
       "84                 CHILLY             Rabi      10.50             18   \n",
       "85                CUCUMBER          KHARIF       6.50             25   \n",
       "86                  GARLIC            Rabi       9.50             10   \n",
       "87     KHARIF ONION (PYAZ)          Kharif       5.50             21   \n",
       "88                 LETTUCE          Kharif      10.25             20   \n",
       "89                    OKRA          Kharif       6.50             20   \n",
       "90                    PEAS           Rabi       10.75             15   \n",
       "91                  POTATO            Rabi       9.50             14   \n",
       "92       RABI ONION (PYAZ)            Rabi      10.50             15   \n",
       "93                  RADISH            RABI       9.75             18   \n",
       "94                 SPINACH            RABI       9.50             15   \n",
       "95            SQUASH MELON            Rabi       2.00             10   \n",
       "96           SWEET POTATO             RABI      12.00             26   \n",
       "97                 TOMATO             Rabi      11.50             10   \n",
       "98                  TURNIP            Rabi       8.50             12   \n",
       "\n",
       "    MAX TEMP(°C)  RAINFALL(mm)  \n",
       "0             32         950.0  \n",
       "1             30         750.0  \n",
       "2             27         750.0  \n",
       "3             30          90.0  \n",
       "4             30        1500.0  \n",
       "5             26         750.0  \n",
       "6             35         775.0  \n",
       "7             30         450.0  \n",
       "8             27         650.0  \n",
       "9             34        1000.0  \n",
       "10            32         105.0  \n",
       "11            23        1050.0  \n",
       "12            32         325.0  \n",
       "13            32         450.0  \n",
       "14            20         500.0  \n",
       "15            32         625.0  \n",
       "16            35         925.0  \n",
       "17            35         775.0  \n",
       "18            35         750.0  \n",
       "19            35         700.0  \n",
       "20            30         625.0  \n",
       "21            26         600.0  \n",
       "22            25         325.0  \n",
       "23            20         750.0  \n",
       "24            38         450.0  \n",
       "25            25         600.0  \n",
       "26            30         750.0  \n",
       "27            35         750.0  \n",
       "28            25         105.0  \n",
       "29            30         625.0  \n",
       "..           ...           ...  \n",
       "69            30        1700.0  \n",
       "70            38        1600.0  \n",
       "71            30        1000.0  \n",
       "72            28         875.0  \n",
       "73            25          62.5  \n",
       "74            28        6250.0  \n",
       "75            35        1500.0  \n",
       "76            28        1500.0  \n",
       "77            35         135.0  \n",
       "78            35        1250.0  \n",
       "79            32         800.0  \n",
       "80            25        1062.5  \n",
       "81            23         875.0  \n",
       "82            30         122.5  \n",
       "83            30        1000.0  \n",
       "84            40        1062.5  \n",
       "85            35         135.0  \n",
       "86            30         650.0  \n",
       "87            26         700.0  \n",
       "88            30        1250.0  \n",
       "89            30        1000.0  \n",
       "90            30         450.0  \n",
       "91            25         400.0  \n",
       "92            30         700.0  \n",
       "93            25        1625.0  \n",
       "94            30        1000.0  \n",
       "95            28         250.0  \n",
       "96            30         975.0  \n",
       "97            25         500.0  \n",
       "98            30        3000.0  \n",
       "\n",
       "[99 rows x 6 columns]"
      ]
     },
     "execution_count": 3,
     "metadata": {},
     "output_type": "execute_result"
    }
   ],
   "source": [
    "dataset"
   ]
  },
  {
   "cell_type": "code",
   "execution_count": 4,
   "metadata": {},
   "outputs": [],
   "source": [
    "X = dataset.iloc[: , 2:].values"
   ]
  },
  {
   "cell_type": "code",
   "execution_count": 5,
   "metadata": {
    "collapsed": true
   },
   "outputs": [
    {
     "data": {
      "text/plain": [
       "array([[1.1000e+01, 1.2000e+01, 3.2000e+01, 9.5000e+02],\n",
       "       [6.0000e+00, 2.5000e+01, 3.0000e+01, 7.5000e+02],\n",
       "       [1.0500e+01, 2.1000e+01, 2.7000e+01, 7.5000e+02],\n",
       "       [1.0000e+01, 2.0000e+01, 3.0000e+01, 9.0000e+01],\n",
       "       [1.1000e+01, 1.6000e+01, 3.0000e+01, 1.5000e+03],\n",
       "       [1.1000e+01, 2.1000e+01, 2.6000e+01, 7.5000e+02],\n",
       "       [4.5000e+00, 1.5000e+01, 3.5000e+01, 7.7500e+02],\n",
       "       [5.5000e+00, 3.0000e+01, 3.0000e+01, 4.5000e+02],\n",
       "       [1.0500e+01, 1.5000e+01, 2.7000e+01, 6.5000e+02],\n",
       "       [6.0000e+00, 2.0000e+01, 3.4000e+01, 1.0000e+03],\n",
       "       [8.5000e+00, 2.8000e+01, 3.2000e+01, 1.0500e+02],\n",
       "       [2.5000e+00, 1.9000e+01, 2.3000e+01, 1.0500e+03],\n",
       "       [1.0500e+01, 1.5000e+01, 3.2000e+01, 3.2500e+02],\n",
       "       [1.1500e+01, 2.5000e+01, 3.2000e+01, 4.5000e+02],\n",
       "       [1.0000e+01, 1.2000e+01, 2.0000e+01, 5.0000e+02],\n",
       "       [4.5000e+00, 2.1000e+01, 3.2000e+01, 6.2500e+02],\n",
       "       [5.2500e+00, 2.2000e+01, 3.5000e+01, 9.2500e+02],\n",
       "       [6.0000e+00, 2.2000e+01, 3.5000e+01, 7.7500e+02],\n",
       "       [5.5000e+00, 2.5000e+01, 3.5000e+01, 7.5000e+02],\n",
       "       [3.0000e+00, 2.0000e+01, 3.5000e+01, 7.0000e+02],\n",
       "       [5.0000e+00, 2.0000e+01, 3.0000e+01, 6.2500e+02],\n",
       "       [1.0500e+01, 2.1000e+01, 2.6000e+01, 6.0000e+02],\n",
       "       [1.0500e+01, 2.2000e+01, 2.5000e+01, 3.2500e+02],\n",
       "       [1.0500e+01, 1.5000e+01, 2.0000e+01, 7.5000e+02],\n",
       "       [6.5000e+00, 1.8000e+01, 3.8000e+01, 4.5000e+02],\n",
       "       [3.5000e+00, 2.0000e+01, 2.5000e+01, 6.0000e+02],\n",
       "       [8.5000e+00, 2.4000e+01, 3.0000e+01, 7.5000e+02],\n",
       "       [3.5000e+00, 2.5000e+01, 3.5000e+01, 7.5000e+02],\n",
       "       [1.0500e+01, 1.5000e+01, 2.5000e+01, 1.0500e+02],\n",
       "       [3.5000e+00, 1.5000e+01, 3.0000e+01, 6.2500e+02],\n",
       "       [6.5000e+00, 3.0000e+01, 3.5000e+01, 6.2500e+02],\n",
       "       [9.0000e+00, 1.8000e+01, 3.7000e+01, 1.0500e+03],\n",
       "       [1.1000e+01, 2.0000e+01, 3.0000e+01, 1.1250e+03],\n",
       "       [7.5000e+00, 2.0000e+01, 2.5000e+01, 1.3750e+03],\n",
       "       [9.0000e+00, 2.0000e+01, 2.5000e+01, 1.3750e+03],\n",
       "       [2.5000e+00, 1.8000e+01, 4.0000e+01, 9.0000e+02],\n",
       "       [9.5000e+00, 1.5000e+01, 3.0000e+01, 6.2500e+02],\n",
       "       [5.0000e+00, 2.5000e+01, 3.5000e+01, 1.2500e+03],\n",
       "       [1.0500e+01, 1.8000e+01, 3.0000e+01, 2.5000e+02],\n",
       "       [8.5000e+00, 2.3000e+01, 3.5000e+01, 8.0000e+02],\n",
       "       [8.0000e+00, 0.0000e+00, 4.0000e+01, 1.7500e+03],\n",
       "       [3.0000e+00, 2.0000e+01, 3.0000e+01, 7.7500e+02],\n",
       "       [7.5000e+00, 1.0000e+01, 4.5000e+01, 1.8500e+03],\n",
       "       [9.0000e+00, 1.5000e+01, 3.0000e+01, 1.0000e+03],\n",
       "       [7.5000e+00, 1.3000e+01, 3.7000e+01, 3.5000e+02],\n",
       "       [7.5000e+00, 2.4000e+01, 2.8000e+01, 1.5500e+03],\n",
       "       [2.5000e+00, 1.8000e+01, 3.0000e+01, 6.2500e+01],\n",
       "       [9.0000e+00, 1.0000e+01, 3.0000e+01, 5.5000e+02],\n",
       "       [4.0000e+00, 1.0000e+01, 2.5000e+01, 6.2500e+01],\n",
       "       [5.0000e+00, 2.0000e+01, 3.0000e+01, 2.5000e+02],\n",
       "       [9.0000e+00, 1.0000e+01, 3.0000e+01, 5.0000e+02],\n",
       "       [2.2500e+00, 2.0000e+01, 3.0000e+01, 6.2500e+01],\n",
       "       [7.5000e+00, 2.5000e+01, 4.0000e+01, 3.7500e+02],\n",
       "       [5.5000e+00, 2.0000e+01, 2.5000e+01, 3.2500e+02],\n",
       "       [7.0000e+00, 3.0000e+01, 4.5000e+01, 6.0000e+02],\n",
       "       [4.5000e+00, 2.8000e+01, 3.8000e+01, 2.7500e+02],\n",
       "       [8.5000e+00, 3.3000e+01, 4.0000e+01, 7.4000e+02],\n",
       "       [9.5000e+00, 2.8000e+01, 3.2000e+01, 6.2500e+01],\n",
       "       [6.5000e+00, 3.5000e+01, 5.0000e+01, 1.8700e+03],\n",
       "       [1.1000e+01, 2.5000e+01, 4.0000e+01, 1.1500e+03],\n",
       "       [1.1000e+01, 1.0000e+01, 3.3000e+01, 2.6500e+03],\n",
       "       [1.1000e+01, 1.5000e+01, 3.0000e+01, 7.5000e+02],\n",
       "       [8.5000e+00, 2.5000e+01, 3.0000e+01, 8.0000e+02],\n",
       "       [3.0000e+00, 4.1000e+01, 4.1000e+01, 1.0000e+02],\n",
       "       [1.1000e+01, 1.5000e+01, 2.5000e+01, 1.0000e+03],\n",
       "       [1.1000e+01, 1.5000e+01, 3.5000e+01, 1.0000e+03],\n",
       "       [5.0000e+00, 1.0000e+01, 3.5000e+01, 2.5000e+03],\n",
       "       [1.1000e+01, 2.0000e+01, 3.0000e+01, 1.0750e+03],\n",
       "       [1.1000e+01, 2.0000e+01, 3.5000e+01, 8.0000e+02],\n",
       "       [2.5000e+00, 2.5000e+01, 3.0000e+01, 1.7000e+03],\n",
       "       [1.1000e+01, 1.0000e+01, 3.8000e+01, 1.6000e+03],\n",
       "       [4.5000e+00, 1.4000e+01, 3.0000e+01, 1.0000e+03],\n",
       "       [1.0500e+01, 1.5000e+01, 2.8000e+01, 8.7500e+02],\n",
       "       [1.0500e+01, 1.5000e+01, 2.5000e+01, 6.2500e+01],\n",
       "       [3.5000e+00, 1.5000e+01, 2.8000e+01, 6.2500e+03],\n",
       "       [5.7500e+00, 1.2000e+01, 3.5000e+01, 1.5000e+03],\n",
       "       [5.5000e+00, 2.4000e+01, 2.8000e+01, 1.5000e+03],\n",
       "       [5.0000e+00, 1.8000e+01, 3.5000e+01, 1.3500e+02],\n",
       "       [2.5000e+00, 1.5000e+01, 3.5000e+01, 1.2500e+03],\n",
       "       [1.0500e+01, 1.5000e+01, 3.2000e+01, 8.0000e+02],\n",
       "       [1.0000e+01, 2.1000e+01, 2.5000e+01, 1.0625e+03],\n",
       "       [9.5000e+00, 7.0000e+00, 2.3000e+01, 8.7500e+02],\n",
       "       [1.1000e+01, 1.2000e+01, 3.0000e+01, 1.2250e+02],\n",
       "       [9.5000e+00, 1.2000e+01, 3.0000e+01, 1.0000e+03],\n",
       "       [1.0500e+01, 1.8000e+01, 4.0000e+01, 1.0625e+03],\n",
       "       [6.5000e+00, 2.5000e+01, 3.5000e+01, 1.3500e+02],\n",
       "       [9.5000e+00, 1.0000e+01, 3.0000e+01, 6.5000e+02],\n",
       "       [5.5000e+00, 2.1000e+01, 2.6000e+01, 7.0000e+02],\n",
       "       [1.0250e+01, 2.0000e+01, 3.0000e+01, 1.2500e+03],\n",
       "       [6.5000e+00, 2.0000e+01, 3.0000e+01, 1.0000e+03],\n",
       "       [1.0750e+01, 1.5000e+01, 3.0000e+01, 4.5000e+02],\n",
       "       [9.5000e+00, 1.4000e+01, 2.5000e+01, 4.0000e+02],\n",
       "       [1.0500e+01, 1.5000e+01, 3.0000e+01, 7.0000e+02],\n",
       "       [9.7500e+00, 1.8000e+01, 2.5000e+01, 1.6250e+03],\n",
       "       [9.5000e+00, 1.5000e+01, 3.0000e+01, 1.0000e+03],\n",
       "       [2.0000e+00, 1.0000e+01, 2.8000e+01, 2.5000e+02],\n",
       "       [1.2000e+01, 2.6000e+01, 3.0000e+01, 9.7500e+02],\n",
       "       [1.1500e+01, 1.0000e+01, 2.5000e+01, 5.0000e+02],\n",
       "       [8.5000e+00, 1.2000e+01, 3.0000e+01, 3.0000e+03]])"
      ]
     },
     "execution_count": 5,
     "metadata": {},
     "output_type": "execute_result"
    }
   ],
   "source": [
    "X"
   ]
  },
  {
   "cell_type": "code",
   "execution_count": 6,
   "metadata": {},
   "outputs": [],
   "source": [
    "Y = dataset.iloc[: , 0].values"
   ]
  },
  {
   "cell_type": "code",
   "execution_count": 7,
   "metadata": {
    "collapsed": true
   },
   "outputs": [
    {
     "data": {
      "text/plain": [
       "array([' BARLEY (JOW)  ', ' MAIZE (KHARIF)   ', ' MAIZE (RABI)   ',\n",
       "       ' OATS  ', ' RICE   ', ' WHEAT (KANAK/GEHU)   ', ' COTTON    ',\n",
       "       ' BAJRA NAPIER HYBRID   ', ' BERSEEM    ', ' FINGER MILLET   ',\n",
       "       ' GUAR   ', ' GUINEA GRASS   ', ' LUCERNE    ', ' SENJI HYBRID   ',\n",
       "       ' SHAFTAL   ', ' TEOSINTE   ', ' COWPEA    ', ' DHAINCHA    ',\n",
       "       ' MESTA   ', ' SUNHEMP   ', ' GROUNDNUT   ', ' LINSEED/ FLAX  ',\n",
       "       ' MUSTARD   ', ' SAFFLOWER   ', ' SOYBEAN   ', ' SUNFLOWER   ',\n",
       "       ' BENGAL GRAM(CHICKPEA)   ', ' GREEN GRAM(MOONG)   ',\n",
       "       ' KIDNEY BEAN (RAJMA)   ', ' MASH (URD)  ', ' PIGEON PEA (TUR)   ',\n",
       "       ' RICEBEAN   ', ' SUGARCANE    ', ' LEMON    ',\n",
       "       ' LIME (NIMBOO)   ', ' CHRYSANTHEMUM   ', ' GERBERA   ',\n",
       "       ' MARIGOLD   ', ' ROSE   ', ' DREK   ', ' EUCALYPTUS   ',\n",
       "       ' POPLAR   ', ' SAGWAN   ', ' GUAVA   ', ' KINNOW  ',\n",
       "       ' MULBERRY    ', ' MUSKMELON   ', ' ORANGE/ MANDARINS (SANTRA)   ',\n",
       "       ' PEAR (NASHPATI)   ', ' PLUM   ', ' SWEET ORANGES (MALTA)   ',\n",
       "       ' WATERMELON   ', ' ALOE VERA    ', ' ASHWAGANDHA   ',\n",
       "       ' BAHERA    ', ' BHUMI AMALAKI   ', ' BRAHMI   ', ' HONEY   ',\n",
       "       ' INDIAN BAEL    ', ' KALIHARI   ', ' LEMON GRASS   ',\n",
       "       ' MULETHI   ', ' NEEM   ', ' PUDINA   ', ' SADABAHAR   ',\n",
       "       ' SAFED MUSLI   ', ' SARPAGANDHA   ', ' SHANKHPUSHPI   ',\n",
       "       ' SHATAVARI   ', ' STEVIA   ', ' SWEET FLAG   ', ' TULSI    ',\n",
       "       ' CORIANDER    ', ' FENNEL   ', ' FENUGREEK   ',\n",
       "       ' GINGER (ADRAKH)  ', ' TURMERIC (HALDI)   ', ' ARUM (ARVI)   ',\n",
       "       ' ASH GOURD   ', ' BRINJAL   ', ' CAPSICUM   ', ' CARROT   ',\n",
       "       ' CAULIFLOWER   ', ' CELERY   ', ' CHILLY    ', ' CUCUMBER   ',\n",
       "       ' GARLIC   ', ' KHARIF ONION (PYAZ)   ', ' LETTUCE   ', ' OKRA   ',\n",
       "       ' PEAS   ', ' POTATO   ', ' RABI ONION (PYAZ)   ', ' RADISH   ',\n",
       "       ' SPINACH   ', ' SQUASH MELON   ', ' SWEET POTATO    ',\n",
       "       ' TOMATO    ', ' TURNIP   '], dtype=object)"
      ]
     },
     "execution_count": 7,
     "metadata": {},
     "output_type": "execute_result"
    }
   ],
   "source": [
    "Y"
   ]
  },
  {
   "cell_type": "code",
   "execution_count": 8,
   "metadata": {},
   "outputs": [],
   "source": [
    "from sklearn.preprocessing import StandardScaler\n",
    "sc = StandardScaler()\n",
    "X_train = sc.fit_transform(X)"
   ]
  },
  {
   "cell_type": "code",
   "execution_count": 9,
   "metadata": {},
   "outputs": [
    {
     "data": {
      "text/plain": [
       "KNeighborsClassifier(algorithm='auto', leaf_size=30, metric='minkowski',\n",
       "           metric_params=None, n_jobs=1, n_neighbors=5, p=2,\n",
       "           weights='uniform')"
      ]
     },
     "execution_count": 9,
     "metadata": {},
     "output_type": "execute_result"
    }
   ],
   "source": [
    "from sklearn.neighbors import KNeighborsClassifier\n",
    "classifier = KNeighborsClassifier(n_neighbors = 5, metric = 'minkowski', p = 2)\n",
    "classifier.fit(X_train, Y)"
   ]
  },
  {
   "cell_type": "code",
   "execution_count": 42,
   "metadata": {},
   "outputs": [],
   "source": [
    "x_test = [[5 , 28.5 , 40.6, 3.4]]\n",
    "                             \n",
    "from sklearn.preprocessing import StandardScaler\n",
    "sc = StandardScaler()\n",
    "X_test = sc.fit_transform(x_test)"
   ]
  },
  {
   "cell_type": "code",
   "execution_count": 52,
   "metadata": {},
   "outputs": [],
   "source": [
    "predicted_index = classifier.kneighbors(X_test, n_neighbors=8)[1]"
   ]
  },
  {
   "cell_type": "code",
   "execution_count": 53,
   "metadata": {},
   "outputs": [
    {
     "data": {
      "text/plain": [
       "array([[89, 43,  9, 94, 26, 36, 39, 88]])"
      ]
     },
     "execution_count": 53,
     "metadata": {},
     "output_type": "execute_result"
    }
   ],
   "source": [
    "predicted_index"
   ]
  },
  {
   "cell_type": "code",
   "execution_count": 58,
   "metadata": {},
   "outputs": [
    {
     "data": {
      "text/plain": [
       "array([89, 43,  9, 94, 26, 36, 39, 88])"
      ]
     },
     "execution_count": 58,
     "metadata": {},
     "output_type": "execute_result"
    }
   ],
   "source": [
    "predicted_index[0]"
   ]
  },
  {
   "cell_type": "code",
   "execution_count": 65,
   "metadata": {},
   "outputs": [],
   "source": [
    "predicted_index_month = []\n",
    "\n",
    "for i in predicted_index[0]:\n",
    "    predicted_index_month.append(X[i][0])"
   ]
  },
  {
   "cell_type": "code",
   "execution_count": 66,
   "metadata": {},
   "outputs": [
    {
     "data": {
      "text/plain": [
       "[6.5, 9.0, 6.0, 9.5, 8.5, 9.5, 8.5, 10.25]"
      ]
     },
     "execution_count": 66,
     "metadata": {},
     "output_type": "execute_result"
    }
   ],
   "source": [
    "predicted_index_month"
   ]
  },
  {
   "cell_type": "code",
   "execution_count": 67,
   "metadata": {},
   "outputs": [],
   "source": [
    "diff_month = []\n",
    "\n",
    "for i in predicted_index_month :\n",
    "    diff = i - x_test[0][0]\n",
    "    diff_month.append(diff)\n",
    "    diff = 0"
   ]
  },
  {
   "cell_type": "code",
   "execution_count": 68,
   "metadata": {},
   "outputs": [
    {
     "data": {
      "text/plain": [
       "[1.5, 4.0, 1.0, 4.5, 3.5, 4.5, 3.5, 5.25]"
      ]
     },
     "execution_count": 68,
     "metadata": {},
     "output_type": "execute_result"
    }
   ],
   "source": [
    "diff_month"
   ]
  },
  {
   "cell_type": "code",
   "execution_count": 72,
   "metadata": {},
   "outputs": [
    {
     "data": {
      "text/plain": [
       "array([2, 0, 4, 6, 1, 3, 5, 7])"
      ]
     },
     "execution_count": 72,
     "metadata": {},
     "output_type": "execute_result"
    }
   ],
   "source": [
    "indx_sorted = np.argsort(diff_month)\n",
    "indx_sorted"
   ]
  },
  {
   "cell_type": "code",
   "execution_count": 73,
   "metadata": {},
   "outputs": [],
   "source": [
    "final_predicted_month = []\n",
    "\n",
    "for i in indx_sorted :\n",
    "    final_predicted_month.append(predicted_index[0][i])"
   ]
  },
  {
   "cell_type": "code",
   "execution_count": 79,
   "metadata": {},
   "outputs": [
    {
     "data": {
      "text/plain": [
       "[9, 89, 26, 39, 43]"
      ]
     },
     "execution_count": 79,
     "metadata": {},
     "output_type": "execute_result"
    }
   ],
   "source": [
    "final_predicted_month = final_predicted_month[0:5]\n",
    "\n",
    "final_predicted_month"
   ]
  },
  {
   "cell_type": "code",
   "execution_count": 80,
   "metadata": {},
   "outputs": [],
   "source": [
    "top_5_crops = []\n",
    "\n",
    "for i in final_predicted_month:\n",
    "    top_5_crops.append(Y[i])"
   ]
  },
  {
   "cell_type": "code",
   "execution_count": 81,
   "metadata": {},
   "outputs": [
    {
     "data": {
      "text/plain": [
       "[' FINGER MILLET   ',\n",
       " ' OKRA   ',\n",
       " ' BENGAL GRAM(CHICKPEA)   ',\n",
       " ' DREK   ',\n",
       " ' GUAVA   ']"
      ]
     },
     "execution_count": 81,
     "metadata": {},
     "output_type": "execute_result"
    }
   ],
   "source": [
    "top_5_crops"
   ]
  },
  {
   "cell_type": "code",
   "execution_count": 82,
   "metadata": {},
   "outputs": [
    {
     "data": {
      "text/plain": [
       "array([   6.,   20.,   34., 1000.])"
      ]
     },
     "execution_count": 82,
     "metadata": {},
     "output_type": "execute_result"
    }
   ],
   "source": [
    "X[9 , :]"
   ]
  },
  {
   "cell_type": "code",
   "execution_count": 83,
   "metadata": {},
   "outputs": [
    {
     "data": {
      "text/plain": [
       "array([   6.5,   20. ,   30. , 1000. ])"
      ]
     },
     "execution_count": 83,
     "metadata": {},
     "output_type": "execute_result"
    }
   ],
   "source": [
    "X[89, :]"
   ]
  },
  {
   "cell_type": "code",
   "execution_count": 85,
   "metadata": {},
   "outputs": [
    {
     "data": {
      "text/plain": [
       "array([  8.5,  24. ,  30. , 750. ])"
      ]
     },
     "execution_count": 85,
     "metadata": {},
     "output_type": "execute_result"
    }
   ],
   "source": [
    "X[26, :]"
   ]
  },
  {
   "cell_type": "code",
   "execution_count": 86,
   "metadata": {},
   "outputs": [
    {
     "data": {
      "text/plain": [
       "array([  8.5,  23. ,  35. , 800. ])"
      ]
     },
     "execution_count": 86,
     "metadata": {},
     "output_type": "execute_result"
    }
   ],
   "source": [
    "X[39, :]"
   ]
  },
  {
   "cell_type": "code",
   "execution_count": 87,
   "metadata": {},
   "outputs": [
    {
     "data": {
      "text/plain": [
       "array([   9.,   15.,   30., 1000.])"
      ]
     },
     "execution_count": 87,
     "metadata": {},
     "output_type": "execute_result"
    }
   ],
   "source": [
    "X[43, :]"
   ]
  },
  {
   "cell_type": "code",
   "execution_count": 88,
   "metadata": {},
   "outputs": [],
   "source": [
    "import pickle"
   ]
  },
  {
   "cell_type": "code",
   "execution_count": 89,
   "metadata": {},
   "outputs": [],
   "source": [
    "filename = 'knn_model.sav'\n",
    "pickle.dump(classifier, open(filename, 'wb'))"
   ]
  },
  {
   "cell_type": "code",
   "execution_count": 91,
   "metadata": {},
   "outputs": [],
   "source": [
    "loaded_model = pickle.load(open(filename, 'rb'))"
   ]
  },
  {
   "cell_type": "code",
   "execution_count": null,
   "metadata": {},
   "outputs": [],
   "source": []
  }
 ],
 "metadata": {
  "kernelspec": {
   "display_name": "Python 2",
   "language": "python",
   "name": "python2"
  },
  "language_info": {
   "codemirror_mode": {
    "name": "ipython",
    "version": 2
   },
   "file_extension": ".py",
   "mimetype": "text/x-python",
   "name": "python",
   "nbconvert_exporter": "python",
   "pygments_lexer": "ipython2",
   "version": "2.7.14"
  }
 },
 "nbformat": 4,
 "nbformat_minor": 2
}
