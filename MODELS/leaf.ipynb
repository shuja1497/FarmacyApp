{
 "cells": [
  {
   "cell_type": "code",
   "execution_count": 1,
   "metadata": {
    "collapsed": true
   },
   "outputs": [],
   "source": [
    "#Plant Disease Recognition using CNN"
   ]
  },
  {
   "cell_type": "code",
   "execution_count": 2,
   "metadata": {},
   "outputs": [
    {
     "name": "stderr",
     "output_type": "stream",
     "text": [
      "Using Theano backend.\n"
     ]
    }
   ],
   "source": [
    "from keras.callbacks import EarlyStopping\n",
    "from keras.datasets import cifar10\n",
    "from keras.models import Sequential\n",
    "from keras.layers.core import Dense, Dropout, Flatten\n",
    "from keras.layers.convolutional import Conv2D\n",
    "from keras.optimizers import Adam\n",
    "from keras.layers.pooling import MaxPooling2D\n",
    "from keras.utils import to_categorical"
   ]
  },
  {
   "cell_type": "code",
   "execution_count": 3,
   "metadata": {
    "collapsed": true
   },
   "outputs": [],
   "source": [
    "#initialising the model"
   ]
  },
  {
   "cell_type": "code",
   "execution_count": 4,
   "metadata": {
    "collapsed": true
   },
   "outputs": [],
   "source": [
    "model = Sequential()"
   ]
  },
  {
   "cell_type": "code",
   "execution_count": 5,
   "metadata": {
    "collapsed": true
   },
   "outputs": [],
   "source": [
    "#adding layers to the model"
   ]
  },
  {
   "cell_type": "code",
   "execution_count": 6,
   "metadata": {
    "collapsed": true
   },
   "outputs": [],
   "source": [
    "model.add(Conv2D(64, kernel_size=(3, 3), activation='relu', input_shape=(32,32, 3)))\n",
    "model.add(Conv2D(128, kernel_size=(3, 3), activation='relu'))\n",
    "model.add(MaxPooling2D(pool_size=(2, 2)))\n",
    "model.add(Dropout(0.25))\n",
    "\n",
    "model.add(Conv2D(256, kernel_size=(3, 3), activation='relu'))\n",
    "model.add(MaxPooling2D(pool_size=(2, 2)))\n",
    "model.add(Conv2D(256, kernel_size=(3, 3), activation='relu'))\n",
    "model.add(MaxPooling2D(pool_size=(2, 2)))\n",
    "model.add(Dropout(0.25))\n",
    "\n",
    "model.add(Flatten())\n",
    "model.add(Dense(2048, activation='relu'))\n",
    "model.add(Dropout(0.5))\n",
    "model.add(Dense(38, activation='softmax'))"
   ]
  },
  {
   "cell_type": "code",
   "execution_count": 7,
   "metadata": {},
   "outputs": [
    {
     "name": "stdout",
     "output_type": "stream",
     "text": [
      "_________________________________________________________________\n",
      "Layer (type)                 Output Shape              Param #   \n",
      "=================================================================\n",
      "conv2d_1 (Conv2D)            (None, 30, 30, 64)        1792      \n",
      "_________________________________________________________________\n",
      "conv2d_2 (Conv2D)            (None, 28, 28, 128)       73856     \n",
      "_________________________________________________________________\n",
      "max_pooling2d_1 (MaxPooling2 (None, 14, 14, 128)       0         \n",
      "_________________________________________________________________\n",
      "dropout_1 (Dropout)          (None, 14, 14, 128)       0         \n",
      "_________________________________________________________________\n",
      "conv2d_3 (Conv2D)            (None, 12, 12, 256)       295168    \n",
      "_________________________________________________________________\n",
      "max_pooling2d_2 (MaxPooling2 (None, 6, 6, 256)         0         \n",
      "_________________________________________________________________\n",
      "conv2d_4 (Conv2D)            (None, 4, 4, 256)         590080    \n",
      "_________________________________________________________________\n",
      "max_pooling2d_3 (MaxPooling2 (None, 2, 2, 256)         0         \n",
      "_________________________________________________________________\n",
      "dropout_2 (Dropout)          (None, 2, 2, 256)         0         \n",
      "_________________________________________________________________\n",
      "flatten_1 (Flatten)          (None, 1024)              0         \n",
      "_________________________________________________________________\n",
      "dense_1 (Dense)              (None, 2048)              2099200   \n",
      "_________________________________________________________________\n",
      "dropout_3 (Dropout)          (None, 2048)              0         \n",
      "_________________________________________________________________\n",
      "dense_2 (Dense)              (None, 38)                77862     \n",
      "=================================================================\n",
      "Total params: 3,137,958\n",
      "Trainable params: 3,137,958\n",
      "Non-trainable params: 0\n",
      "_________________________________________________________________\n"
     ]
    }
   ],
   "source": [
    "model.summary()\n"
   ]
  },
  {
   "cell_type": "code",
   "execution_count": 8,
   "metadata": {
    "collapsed": true
   },
   "outputs": [],
   "source": [
    "# Compile the model\n",
    "model.compile(loss='categorical_crossentropy',optimizer=Adam(lr=0.0001, decay=1e-6),metrics=['accuracy'])"
   ]
  },
  {
   "cell_type": "code",
   "execution_count": null,
   "metadata": {
    "collapsed": true
   },
   "outputs": [],
   "source": []
  },
  {
   "cell_type": "code",
   "execution_count": 9,
   "metadata": {
    "collapsed": true
   },
   "outputs": [],
   "source": [
    "from keras.preprocessing.image import ImageDataGenerator\n",
    "\n",
    "train_datagen = ImageDataGenerator(rescale = 1./255,\n",
    "                                   shear_range = 0.2,\n",
    "                                   zoom_range = 0.2,\n",
    "                                   horizontal_flip = True)\n",
    "\n",
    "test_datagen = ImageDataGenerator(rescale = 1./255)"
   ]
  },
  {
   "cell_type": "code",
   "execution_count": 10,
   "metadata": {},
   "outputs": [
    {
     "name": "stdout",
     "output_type": "stream",
     "text": [
      "Found 16350 images belonging to 38 classes.\n",
      "Found 5564 images belonging to 38 classes.\n"
     ]
    }
   ],
   "source": [
    "training_set = train_datagen.flow_from_directory('train/crowdai/',\n",
    "                                                 target_size = (32,32),\n",
    "                                                 batch_size = 650,\n",
    "                                                 class_mode = 'categorical')\n",
    "\n",
    "test_set = train_datagen.flow_from_directory('test/crowdai/',\n",
    "                                                 target_size = (32,32),\n",
    "                                                 batch_size = 650,\n",
    "                                                 class_mode = 'categorical')"
   ]
  },
  {
   "cell_type": "code",
   "execution_count": 11,
   "metadata": {},
   "outputs": [
    {
     "name": "stderr",
     "output_type": "stream",
     "text": [
      "/home/shuja1497/anaconda2/lib/python2.7/site-packages/ipykernel_launcher.py:6: UserWarning: Update your `fit_generator` call to the Keras 2 API: `fit_generator(<keras.pre..., validation_data=<keras.pre..., steps_per_epoch=24, epochs=25, callbacks=[<keras.ca..., validation_steps=8)`\n",
      "  \n"
     ]
    },
    {
     "name": "stdout",
     "output_type": "stream",
     "text": [
      "Epoch 1/25\n",
      "24/24 [==============================] - 534s - loss: 3.4675 - acc: 0.1038 - val_loss: 3.4210 - val_acc: 0.1885\n",
      "Epoch 2/25\n",
      "24/24 [==============================] - 271s - loss: 3.2973 - acc: 0.1601 - val_loss: 3.1476 - val_acc: 0.1944\n",
      "Epoch 3/25\n",
      "24/24 [==============================] - 287s - loss: 3.0382 - acc: 0.1973 - val_loss: 2.9476 - val_acc: 0.2194\n",
      "Epoch 4/25\n",
      "24/24 [==============================] - 277s - loss: 2.9000 - acc: 0.2215 - val_loss: 2.8372 - val_acc: 0.2490\n",
      "Epoch 5/25\n",
      "24/24 [==============================] - 265s - loss: 2.7399 - acc: 0.2644 - val_loss: 2.6100 - val_acc: 0.2998\n",
      "Epoch 6/25\n",
      "24/24 [==============================] - 263s - loss: 2.5144 - acc: 0.3100 - val_loss: 2.3205 - val_acc: 0.3592\n",
      "Epoch 7/25\n",
      "24/24 [==============================] - 258s - loss: 2.3062 - acc: 0.3642 - val_loss: 2.1827 - val_acc: 0.3902\n",
      "Epoch 8/25\n",
      "24/24 [==============================] - 264s - loss: 2.1485 - acc: 0.4024 - val_loss: 1.9939 - val_acc: 0.4342\n",
      "Epoch 9/25\n",
      "24/24 [==============================] - 263s - loss: 2.0098 - acc: 0.4329 - val_loss: 1.8196 - val_acc: 0.4906\n",
      "Epoch 10/25\n",
      "24/24 [==============================] - 269s - loss: 1.8834 - acc: 0.4621 - val_loss: 1.6946 - val_acc: 0.5185\n",
      "Epoch 11/25\n",
      "24/24 [==============================] - 263s - loss: 1.8128 - acc: 0.4772 - val_loss: 1.5918 - val_acc: 0.5429\n",
      "Epoch 12/25\n",
      "24/24 [==============================] - 262s - loss: 1.6986 - acc: 0.5048 - val_loss: 1.5332 - val_acc: 0.5504\n",
      "Epoch 13/25\n",
      "24/24 [==============================] - 258s - loss: 1.6327 - acc: 0.5247 - val_loss: 1.4420 - val_acc: 0.5846\n",
      "Epoch 14/25\n",
      "24/24 [==============================] - 272s - loss: 1.5370 - acc: 0.5499 - val_loss: 1.3341 - val_acc: 0.6194\n",
      "Epoch 15/25\n",
      "24/24 [==============================] - 260s - loss: 1.4890 - acc: 0.5601 - val_loss: 1.3025 - val_acc: 0.6215\n",
      "Epoch 16/25\n",
      "24/24 [==============================] - 259s - loss: 1.4017 - acc: 0.5906 - val_loss: 1.2299 - val_acc: 0.6400\n",
      "Epoch 17/25\n",
      "24/24 [==============================] - 265s - loss: 1.3531 - acc: 0.6025 - val_loss: 1.2280 - val_acc: 0.6442\n",
      "Epoch 18/25\n",
      "24/24 [==============================] - 264s - loss: 1.3115 - acc: 0.6142 - val_loss: 1.1184 - val_acc: 0.6721\n",
      "Epoch 19/25\n",
      "24/24 [==============================] - 266s - loss: 1.2552 - acc: 0.6280 - val_loss: 1.0859 - val_acc: 0.6794\n",
      "Epoch 20/25\n",
      "24/24 [==============================] - 266s - loss: 1.2033 - acc: 0.6406 - val_loss: 1.0471 - val_acc: 0.6977\n",
      "Epoch 21/25\n",
      "24/24 [==============================] - 264s - loss: 1.1912 - acc: 0.6447 - val_loss: 1.0537 - val_acc: 0.6867\n",
      "Epoch 22/25\n",
      "24/24 [==============================] - 263s - loss: 1.1596 - acc: 0.6546 - val_loss: 1.0100 - val_acc: 0.7035\n",
      "Epoch 23/25\n",
      "24/24 [==============================] - 264s - loss: 1.1272 - acc: 0.6608 - val_loss: 1.0527 - val_acc: 0.6787\n",
      "Epoch 24/25\n",
      "24/24 [==============================] - 262s - loss: 1.0975 - acc: 0.6678 - val_loss: 0.9768 - val_acc: 0.7077\n",
      "Epoch 25/25\n",
      "24/24 [==============================] - 270s - loss: 1.0742 - acc: 0.6732 - val_loss: 0.9208 - val_acc: 0.7308\n"
     ]
    }
   ],
   "source": [
    "training = model.fit_generator(training_set,\n",
    "                        steps_per_epoch =24,\n",
    "                        nb_epoch = 25,\n",
    "                        validation_data=test_set,\n",
    "                        validation_steps = 5564/650,\n",
    "                        callbacks = [EarlyStopping(min_delta=0.001, patience=3)])"
   ]
  },
  {
   "cell_type": "code",
   "execution_count": 12,
   "metadata": {
    "collapsed": true
   },
   "outputs": [],
   "source": [
    "from keras.models import save_model"
   ]
  },
  {
   "cell_type": "code",
   "execution_count": 13,
   "metadata": {
    "collapsed": true
   },
   "outputs": [],
   "source": [
    "model.save(\"plantdisease_withVal_allepoch64.h5\")"
   ]
  },
  {
   "cell_type": "code",
   "execution_count": 14,
   "metadata": {},
   "outputs": [],
   "source": [
    "historydata = training.history"
   ]
  },
  {
   "cell_type": "code",
   "execution_count": 15,
   "metadata": {},
   "outputs": [
    {
     "data": {
      "text/plain": [
       "{'acc': [0.1038461538652579,\n",
       "  0.16152824015910444,\n",
       "  0.19720930212557911,\n",
       "  0.21980066478648455,\n",
       "  0.26458471835253644,\n",
       "  0.31102989787279173,\n",
       "  0.36159468410023027,\n",
       "  0.39966777303686174,\n",
       "  0.43295680872625686,\n",
       "  0.46046511883355457,\n",
       "  0.47813953711740992,\n",
       "  0.50564784088800119,\n",
       "  0.52697674519199866,\n",
       "  0.54993589222431183,\n",
       "  0.56252491018700834,\n",
       "  0.59096345711388065,\n",
       "  0.60013288972385703,\n",
       "  0.61501661665811891,\n",
       "  0.62651163161394996,\n",
       "  0.64093023241556368,\n",
       "  0.64418604999681639,\n",
       "  0.65548172939655391,\n",
       "  0.66358803673043998,\n",
       "  0.66631229474298981,\n",
       "  0.67295680945101766],\n",
       " 'loss': [3.4675377508004508,\n",
       "  3.2944862398990367,\n",
       "  3.0378113482085571,\n",
       "  2.9013238452201664,\n",
       "  2.7381552216222516,\n",
       "  2.5071048839543746,\n",
       "  2.3097032193725688,\n",
       "  2.1560478939170458,\n",
       "  2.0061330272509807,\n",
       "  1.8891424158482852,\n",
       "  1.8058362506156744,\n",
       "  1.6978592413208413,\n",
       "  1.624898758837551,\n",
       "  1.5369840363661449,\n",
       "  1.4845317938795122,\n",
       "  1.3977713802724185,\n",
       "  1.3585110340403559,\n",
       "  1.311563285086242,\n",
       "  1.2590666530140215,\n",
       "  1.2026003092230357,\n",
       "  1.1926982264186061,\n",
       "  1.1589086824081269,\n",
       "  1.1210856140649992,\n",
       "  1.1020370856472028,\n",
       "  1.0791290877665396],\n",
       " 'val_acc': [0.18846154026687145,\n",
       "  0.19442307576537132,\n",
       "  0.2194230780005455,\n",
       "  0.2490384578704834,\n",
       "  0.29980769008398056,\n",
       "  0.35923077166080475,\n",
       "  0.39019231125712395,\n",
       "  0.43423077091574669,\n",
       "  0.49057691916823387,\n",
       "  0.51846153661608696,\n",
       "  0.54288461804389954,\n",
       "  0.55038462579250336,\n",
       "  0.58461537957191467,\n",
       "  0.61942307651042938,\n",
       "  0.62153846025466919,\n",
       "  0.64000000059604645,\n",
       "  0.64423077553510666,\n",
       "  0.67211539298295975,\n",
       "  0.67942307889461517,\n",
       "  0.69769230484962463,\n",
       "  0.68673075735569,\n",
       "  0.70346154272556305,\n",
       "  0.67865384370088577,\n",
       "  0.70769231021404266,\n",
       "  0.73076923936605453],\n",
       " 'val_loss': [3.4210393130779266,\n",
       "  3.1475780010223389,\n",
       "  2.9475510120391846,\n",
       "  2.8372242748737335,\n",
       "  2.6099589765071869,\n",
       "  2.3205147385597229,\n",
       "  2.1826994121074677,\n",
       "  1.9938640296459198,\n",
       "  1.8196381628513336,\n",
       "  1.6946476697921753,\n",
       "  1.5918095707893372,\n",
       "  1.53323794901371,\n",
       "  1.4420135170221329,\n",
       "  1.3341172933578491,\n",
       "  1.3024767488241196,\n",
       "  1.2299107313156128,\n",
       "  1.2280343919992447,\n",
       "  1.1183628290891647,\n",
       "  1.0859264880418777,\n",
       "  1.0471132397651672,\n",
       "  1.0537427365779877,\n",
       "  1.0099520161747932,\n",
       "  1.0527117177844048,\n",
       "  0.97684317082166672,\n",
       "  0.92081465572118759]}"
      ]
     },
     "execution_count": 15,
     "metadata": {},
     "output_type": "execute_result"
    }
   ],
   "source": [
    "historydata"
   ]
  },
  {
   "cell_type": "code",
   "execution_count": 16,
   "metadata": {
    "collapsed": true
   },
   "outputs": [],
   "source": [
    "import matplotlib.pyplot as plt"
   ]
  },
  {
   "cell_type": "code",
   "execution_count": null,
   "metadata": {},
   "outputs": [],
   "source": []
  },
  {
   "cell_type": "code",
   "execution_count": null,
   "metadata": {
    "collapsed": true
   },
   "outputs": [],
   "source": []
  },
  {
   "cell_type": "code",
   "execution_count": 19,
   "metadata": {},
   "outputs": [
    {
     "data": {
      "image/png": "[encoded data removed]",
      "text/plain": [
       "<matplotlib.figure.Figure at 0x7f9165d71b50>"
      ]
     },
     "metadata": {},
     "output_type": "display_data"
    }
   ],
   "source": [
    "fig = plt.figure(figsize=(15, 5))\n",
    "plt.subplot(1, 2, 1)\n",
    "plt.ylabel('Loss', fontsize=16)\n",
    "plt.xlabel('Epochs', fontsize=16) \n",
    " \n",
    "plt.plot(historydata['loss'], 'r', label='Training Loss', linewidth=3) \n",
    "plt.plot(historydata['val_loss'], 'b--', label='Validation Loss', linewidth=3) \n",
    "plt.legend(loc='upper right') \n",
    " \n",
    "plt.subplot(1, 2, 2) \n",
    "plt.ylabel('Accuracy', fontsize=16) \n",
    "plt.xlabel('Epochs', fontsize=16) \n",
    "plt.plot(historydata['acc'], 'g', label='Training Accuracy' , linewidth=3) \n",
    "plt.plot(historydata['val_acc'], 'g--', label='Validation Accuracy' , linewidth=3)\n",
    "\n",
    "\n",
    "plt.legend(loc='lower right') \n",
    "plt.show() \n",
    "fig.savefig('graphsForLeafModelFINAL.png')"
   ]
  },
  {
   "cell_type": "code",
   "execution_count": 20,
   "metadata": {},
   "outputs": [
    {
     "name": "stdout",
     "output_type": "stream",
     "text": [
      "{'c_24': 17, 'c_25': 18, 'c_26': 19, 'c_27': 20, 'c_20': 13, 'c_21': 14, 'c_22': 15, 'c_23': 16, 'c_28': 21, 'c_29': 22, 'c_1': 1, 'c_0': 0, 'c_3': 23, 'c_2': 12, 'c_5': 33, 'c_4': 32, 'c_7': 35, 'c_6': 34, 'c_9': 37, 'c_33': 27, 'c_32': 26, 'c_37': 31, 'c_36': 30, 'c_35': 29, 'c_34': 28, 'c_19': 11, 'c_18': 10, 'c_31': 25, 'c_30': 24, 'c_15': 7, 'c_14': 6, 'c_17': 9, 'c_16': 8, 'c_11': 3, 'c_10': 2, 'c_13': 5, 'c_12': 4, 'c_8': 36}\n"
     ]
    }
   ],
   "source": [
    "label_map = (training_set.class_indices)\n",
    "print(label_map)"
   ]
  },
  {
   "cell_type": "code",
   "execution_count": 21,
   "metadata": {},
   "outputs": [
    {
     "ename": "IOError",
     "evalue": "[Errno 2] No such file or directory: 'D:\\\\Users\\\\Yash\\\\Desktop\\\\p2\\\\Image Dataset\\\\testing image\\\\1.jpg'",
     "output_type": "error",
     "traceback": [
      "\u001b[0;31m---------------------------------------------------------------------------\u001b[0m",
      "\u001b[0;31mIOError\u001b[0m                                   Traceback (most recent call last)",
      "\u001b[0;32m<ipython-input-21-fa8892b600dd>\u001b[0m in \u001b[0;36m<module>\u001b[0;34m()\u001b[0m\n\u001b[1;32m      3\u001b[0m \u001b[0;32mimport\u001b[0m \u001b[0mnumpy\u001b[0m \u001b[0;32mas\u001b[0m \u001b[0mnp\u001b[0m\u001b[0;34m\u001b[0m\u001b[0m\n\u001b[1;32m      4\u001b[0m \u001b[0;34m\u001b[0m\u001b[0m\n\u001b[0;32m----> 5\u001b[0;31m \u001b[0mtest_image\u001b[0m \u001b[0;34m=\u001b[0m \u001b[0mimage_utils\u001b[0m\u001b[0;34m.\u001b[0m\u001b[0mload_img\u001b[0m\u001b[0;34m(\u001b[0m\u001b[0;34mr'D:\\Users\\Yash\\Desktop\\p2\\Image Dataset\\testing image\\1.jpg'\u001b[0m\u001b[0;34m,\u001b[0m \u001b[0mtarget_size\u001b[0m\u001b[0;34m=\u001b[0m\u001b[0;34m(\u001b[0m\u001b[0;36m32\u001b[0m\u001b[0;34m,\u001b[0m \u001b[0;36m32\u001b[0m\u001b[0;34m)\u001b[0m\u001b[0;34m)\u001b[0m\u001b[0;34m\u001b[0m\u001b[0m\n\u001b[0m\u001b[1;32m      6\u001b[0m \u001b[0mtest_image\u001b[0m \u001b[0;34m=\u001b[0m \u001b[0mimage_utils\u001b[0m\u001b[0;34m.\u001b[0m\u001b[0mimg_to_array\u001b[0m\u001b[0;34m(\u001b[0m\u001b[0mtest_image\u001b[0m\u001b[0;34m)\u001b[0m\u001b[0;34m\u001b[0m\u001b[0m\n\u001b[1;32m      7\u001b[0m \u001b[0mtest_image\u001b[0m \u001b[0;34m=\u001b[0m \u001b[0mnp\u001b[0m\u001b[0;34m.\u001b[0m\u001b[0mexpand_dims\u001b[0m\u001b[0;34m(\u001b[0m\u001b[0mtest_image\u001b[0m\u001b[0;34m,\u001b[0m \u001b[0maxis\u001b[0m\u001b[0;34m=\u001b[0m\u001b[0;36m0\u001b[0m\u001b[0;34m)\u001b[0m\u001b[0;34m\u001b[0m\u001b[0m\n",
      "\u001b[0;32m/home/shuja1497/anaconda2/lib/python2.7/site-packages/keras/preprocessing/image.pyc\u001b[0m in \u001b[0;36mload_img\u001b[0;34m(path, grayscale, target_size)\u001b[0m\n\u001b[1;32m    320\u001b[0m         raise ImportError('Could not import PIL.Image. '\n\u001b[1;32m    321\u001b[0m                           'The use of `array_to_img` requires PIL.')\n\u001b[0;32m--> 322\u001b[0;31m     \u001b[0mimg\u001b[0m \u001b[0;34m=\u001b[0m \u001b[0mpil_image\u001b[0m\u001b[0;34m.\u001b[0m\u001b[0mopen\u001b[0m\u001b[0;34m(\u001b[0m\u001b[0mpath\u001b[0m\u001b[0;34m)\u001b[0m\u001b[0;34m\u001b[0m\u001b[0m\n\u001b[0m\u001b[1;32m    323\u001b[0m     \u001b[0;32mif\u001b[0m \u001b[0mgrayscale\u001b[0m\u001b[0;34m:\u001b[0m\u001b[0;34m\u001b[0m\u001b[0m\n\u001b[1;32m    324\u001b[0m         \u001b[0;32mif\u001b[0m \u001b[0mimg\u001b[0m\u001b[0;34m.\u001b[0m\u001b[0mmode\u001b[0m \u001b[0;34m!=\u001b[0m \u001b[0;34m'L'\u001b[0m\u001b[0;34m:\u001b[0m\u001b[0;34m\u001b[0m\u001b[0m\n",
      "\u001b[0;32m/home/shuja1497/anaconda2/lib/python2.7/site-packages/PIL/Image.pyc\u001b[0m in \u001b[0;36mopen\u001b[0;34m(fp, mode)\u001b[0m\n\u001b[1;32m   2408\u001b[0m \u001b[0;34m\u001b[0m\u001b[0m\n\u001b[1;32m   2409\u001b[0m     \u001b[0;32mif\u001b[0m \u001b[0mfilename\u001b[0m\u001b[0;34m:\u001b[0m\u001b[0;34m\u001b[0m\u001b[0m\n\u001b[0;32m-> 2410\u001b[0;31m         \u001b[0mfp\u001b[0m \u001b[0;34m=\u001b[0m \u001b[0mbuiltins\u001b[0m\u001b[0;34m.\u001b[0m\u001b[0mopen\u001b[0m\u001b[0;34m(\u001b[0m\u001b[0mfilename\u001b[0m\u001b[0;34m,\u001b[0m \u001b[0;34m\"rb\"\u001b[0m\u001b[0;34m)\u001b[0m\u001b[0;34m\u001b[0m\u001b[0m\n\u001b[0m\u001b[1;32m   2411\u001b[0m         \u001b[0mexclusive_fp\u001b[0m \u001b[0;34m=\u001b[0m \u001b[0mTrue\u001b[0m\u001b[0;34m\u001b[0m\u001b[0m\n\u001b[1;32m   2412\u001b[0m \u001b[0;34m\u001b[0m\u001b[0m\n",
      "\u001b[0;31mIOError\u001b[0m: [Errno 2] No such file or directory: 'D:\\\\Users\\\\Yash\\\\Desktop\\\\p2\\\\Image Dataset\\\\testing image\\\\1.jpg'"
     ]
    }
   ],
   "source": [
    "#testing for a single image \n",
    "from keras.preprocessing import image as image_utils \n",
    "import numpy as np\n",
    "\n",
    "test_image = image_utils.load_img(r'D:\\Users\\Yash\\Desktop\\p2\\Image Dataset\\testing image\\1.jpg', target_size=(32, 32)) \n",
    "test_image = image_utils.img_to_array(test_image) \n",
    "test_image = np.expand_dims(test_image, axis=0) \n",
    "result = model.predict_on_batch(test_image) \n",
    " \n",
    " "
   ]
  },
  {
   "cell_type": "code",
   "execution_count": 22,
   "metadata": {},
   "outputs": [
    {
     "ename": "NameError",
     "evalue": "name 'result' is not defined",
     "output_type": "error",
     "traceback": [
      "\u001b[0;31m---------------------------------------------------------------------------\u001b[0m",
      "\u001b[0;31mNameError\u001b[0m                                 Traceback (most recent call last)",
      "\u001b[0;32m<ipython-input-22-35147d8b1bd5>\u001b[0m in \u001b[0;36m<module>\u001b[0;34m()\u001b[0m\n\u001b[0;32m----> 1\u001b[0;31m \u001b[0;32mprint\u001b[0m\u001b[0;34m(\u001b[0m\u001b[0mresult\u001b[0m\u001b[0;34m)\u001b[0m\u001b[0;34m\u001b[0m\u001b[0m\n\u001b[0m",
      "\u001b[0;31mNameError\u001b[0m: name 'result' is not defined"
     ]
    }
   ],
   "source": [
    "print(result)"
   ]
  },
  {
   "cell_type": "code",
   "execution_count": null,
   "metadata": {},
   "outputs": [],
   "source": [
    "print(list(label_map.keys())[list(label_map.values()).index(np.argmax(result))])"
   ]
  },
  {
   "cell_type": "code",
   "execution_count": 53,
   "metadata": {
    "collapsed": true
   },
   "outputs": [],
   "source": [
    "test_image = image_utils.load_img(r'D:\\Users\\Yash\\Desktop\\p2\\Image Dataset\\crowdai - Copy\\train\\c_18\\0c2392f6-3e69-4baf-b9f3-197623f6631a___JR_B.Spot 3176.jpg', target_size=(32, 32)) \n",
    "test_image = image_utils.img_to_array(test_image) \n",
    "test_image = np.expand_dims(test_image, axis=0) \n",
    "result = model.predict_on_batch(test_image) \n",
    " "
   ]
  },
  {
   "cell_type": "code",
   "execution_count": 54,
   "metadata": {},
   "outputs": [
    {
     "name": "stdout",
     "output_type": "stream",
     "text": [
      "c_19\n"
     ]
    }
   ],
   "source": [
    "print(list(label_map.keys())[list(label_map.values()).index(np.argmax(result))])"
   ]
  },
  {
   "cell_type": "code",
   "execution_count": null,
   "metadata": {
    "collapsed": true
   },
   "outputs": [],
   "source": [
    "from keras.models import load_model\n",
    "model = load_model(r\"D:\\Users\\Yash\\Desktop\\Image Dataset\\new image\\plantdisease_withVal_allepoch32.h5\")"
   ]
  },
  {
   "cell_type": "code",
   "execution_count": null,
   "metadata": {
    "collapsed": true
   },
   "outputs": [],
   "source": []
  }
 ],
 "metadata": {
  "kernelspec": {
   "display_name": "Python 2",
   "language": "python",
   "name": "python2"
  },
  "language_info": {
   "codemirror_mode": {
    "name": "ipython",
    "version": 2
   },
   "file_extension": ".py",
   "mimetype": "text/x-python",
   "name": "python",
   "nbconvert_exporter": "python",
   "pygments_lexer": "ipython2",
   "version": "2.7.13"
  }
 },
 "nbformat": 4,
 "nbformat_minor": 2
}
